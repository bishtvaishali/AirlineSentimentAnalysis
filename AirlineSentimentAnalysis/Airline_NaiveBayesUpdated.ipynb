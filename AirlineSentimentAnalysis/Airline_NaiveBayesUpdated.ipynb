{
 "cells": [
  {
   "cell_type": "markdown",
   "metadata": {},
   "source": [
    "## Data Cleaning"
   ]
  },
  {
   "cell_type": "code",
   "execution_count": 12,
   "metadata": {},
   "outputs": [
    {
     "name": "stdout",
     "output_type": "stream",
     "text": [
      "Unbalanced Sentiment Values: negative    9178\n",
      "neutral     3099\n",
      "positive    2363\n",
      "Name: airline_sentiment, dtype: int64\n",
      "AIRLINES ['Virgin America' 'United' 'Southwest' 'Delta' 'US Airways' 'American']\n",
      "RANDOM VALUES: Positive =  2363 Negative= 9178 Neutal= 3099\n",
      "A balanced * BalancedUncleanFile.csv * file created\n",
      "sentimentValues: negative    9178\n",
      "neutral     3099\n",
      "positive    2363\n",
      "Name: airline_sentiment, dtype: int64\n",
      "done\n"
     ]
    },
    {
     "data": {
      "image/png": "[encoded data removed]",
      "text/plain": [
       "<Figure size 432x288 with 1 Axes>"
      ]
     },
     "metadata": {
      "needs_background": "light"
     },
     "output_type": "display_data"
    }
   ],
   "source": [
    "from sklearn.feature_extraction.text import CountVectorizer\n",
    "from sklearn.feature_extraction.text import TfidfTransformer\n",
    "from sklearn.feature_extraction.text import TfidfVectorizer\n",
    "\n",
    "from sklearn.naive_bayes import MultinomialNB\n",
    "from sklearn.ensemble import RandomForestClassifier\n",
    "from sklearn.tree import DecisionTreeClassifier\n",
    "from sklearn.ensemble import RandomForestClassifier\n",
    "from sklearn.linear_model import LogisticRegression\n",
    "from sklearn.svm import LinearSVC\n",
    "\n",
    "from sklearn.feature_selection import SelectKBest\n",
    "from sklearn.feature_selection import chi2\n",
    "\n",
    "from sklearn.pipeline import Pipeline\n",
    "from sklearn import metrics\n",
    "from sklearn.metrics import accuracy_score, log_loss\n",
    "\n",
    "# import warnings filter\n",
    "from warnings import simplefilter\n",
    "simplefilter(action='ignore', category=FutureWarning)\n",
    "\n",
    "import seaborn as sns\n",
    "import matplotlib.pyplot as plt\n",
    "import pandas as pd\n",
    "import import_ipynb\n",
    "import data\n",
    "\n",
    "\n",
    "data.createBalancedFile()\n",
    "array = data.dataCleaning();\n",
    "tweetsData = array[0]\n",
    "sentiment = array[1]\n",
    "\n",
    "print('done')"
   ]
  },
  {
   "cell_type": "markdown",
   "metadata": {},
   "source": [
    "## Splitting DataSet for Training and Testing"
   ]
  },
  {
   "cell_type": "code",
   "execution_count": 2,
   "metadata": {},
   "outputs": [
    {
     "name": "stdout",
     "output_type": "stream",
     "text": [
      "Splitting Data complete\n"
     ]
    }
   ],
   "source": [
    "#Splitting DataSet for Training and Testing\n",
    "from sklearn.model_selection import train_test_split\n",
    "\n",
    "targetSentiment = [\"positive\", \"negative\",\"neutral\"]\n",
    "\n",
    "X_train, X_test, Y_train, Y_test = train_test_split(tweetsData, sentiment, test_size =0.3)\n",
    "\n",
    "print('Splitting Data complete')\n"
   ]
  },
  {
   "cell_type": "code",
   "execution_count": 3,
   "metadata": {},
   "outputs": [
    {
     "name": "stdout",
     "output_type": "stream",
     "text": [
      "running\n",
      "SHAPE:(10248, 11094)\n"
     ]
    }
   ],
   "source": [
    "#---Text Feature Extraction, Bag of Words-----  \n",
    "#Count Vectorizer ignores uni-character words as it has no information\n",
    "\n",
    "countVector = CountVectorizer() \n",
    "termCountMatrix = countVector.fit_transform(X_train)\n",
    "print(\"running\")\n",
    "print(\"SHAPE:\"+ str(termCountMatrix.shape)) #3 documents and 7 unique terms/vocab\n",
    "\n",
    "#TFIDF\n",
    "# tfIdfTransformer = TfidfTransformer()\n",
    "# tdIdfMatrix = tfIdfTransformer.fit_transform(termCountMatrix)\n",
    "\n",
    "#print(\"TFIDF:\" + str(tfIdfTransformer.idf_))\n",
    "# print(\"TFIDF:\" + str(tdIdfMatrix.toarray()))\n",
    "\n",
    "# #------Training NB Model-----\n",
    "# model = MultinomialNB().fit(tdIdfMatrix,Y_train)\n",
    "\n",
    "# #------Testing NB Model-----\n",
    "# XTestVectorMatrix = countVector.transform(X_test)\n",
    "# XTestTFMatrix =  tfIdfTransformer.transform(XTestVectorMatrix)\n",
    "# predicted = model.predict(XTestTFMatrix)\n",
    "# print(\"PREDICT\",predicted)\n",
    "\n",
    "# accuracy = metrics.accuracy_score(Y_test,predicted)\n",
    "# print(\"accuracy:\", accuracy)\n",
    "# print(metrics.classification_report(Y_test, predicted, targetSentiment))\n"
   ]
  },
  {
   "cell_type": "markdown",
   "metadata": {},
   "source": [
    "## Vectorization of Training and testing data"
   ]
  },
  {
   "cell_type": "code",
   "execution_count": 4,
   "metadata": {},
   "outputs": [],
   "source": [
    "from sklearn.feature_extraction.text import TfidfVectorizer\n",
    "# vectorizer = TfidfVectorizer(min_df =2, max_df=0.5, ngram_range=(1,2))\n",
    "vectorizer = TfidfVectorizer(ngram_range=(1,1))\n",
    "features = vectorizer.fit_transform(X_train)\n",
    "feature_names = vectorizer.get_feature_names()\n",
    "# print(features_names)"
   ]
  },
  {
   "cell_type": "code",
   "execution_count": 5,
   "metadata": {},
   "outputs": [
    {
     "name": "stdout",
     "output_type": "stream",
     "text": [
      "done\n"
     ]
    }
   ],
   "source": [
    "testFeatures = vectorizer.transform(X_test)\n",
    "print('done')"
   ]
  },
  {
   "cell_type": "markdown",
   "metadata": {},
   "source": [
    "## Classifiers without Feature Selection "
   ]
  },
  {
   "cell_type": "code",
   "execution_count": 6,
   "metadata": {},
   "outputs": [],
   "source": [
    "#All Classifiers\n",
    "def classifiers(X_train, Y_train, X_test,Y_test):\n",
    "\n",
    "    from sklearn.metrics import accuracy_score, log_loss\n",
    "    from sklearn.svm import SVC\n",
    "    from sklearn.tree import DecisionTreeClassifier\n",
    "    from sklearn.ensemble import RandomForestClassifier\n",
    "    from sklearn.linear_model import LogisticRegression\n",
    "    import pandas as pd\n",
    "    import seaborn as sns\n",
    "    import matplotlib.pyplot as plt\n",
    "    # import warnings filter\n",
    "    from warnings import simplefilter\n",
    "    simplefilter(action='ignore', category=FutureWarning)\n",
    "    \n",
    "    accList =[]\n",
    "    clfNameList = []\n",
    "    \n",
    "\n",
    "    classifiers = [\n",
    "        MultinomialNB(),\n",
    "        SVC(kernel=\"rbf\", C=0.025, probability=True),\n",
    "        DecisionTreeClassifier(),\n",
    "        RandomForestClassifier(),\n",
    "        LogisticRegression(random_state=0)]\n",
    "\n",
    "    evaluationArr =[\"Classifier\", \"Accuracy\"]\n",
    "    log = pd.DataFrame(columns=evaluationArr)\n",
    "\n",
    "    for clf in classifiers:\n",
    "        clf.fit(X_train, Y_train)\n",
    "        clfName = clf.__class__.__name__\n",
    "        print(clfName)\n",
    "        clfNameList.append(clfName)\n",
    "\n",
    "        predicted = clf.predict(X_test)\n",
    "        accuracy = accuracy_score(Y_test, predicted)\n",
    "        print(\"Accuracy: {:.4%}\".format(accuracy))\n",
    "        accList.append(accuracy)\n",
    "        print(metrics.classification_report(Y_test, predicted, targetSentiment))\n",
    "        print(\"=\"*30)\n",
    "\n",
    "    #     train_predictions = clf.predict_proba(X_test)[:,3]\n",
    "    #     ll = log_loss(Y_test, train_predictions)\n",
    "    #     print(\"Log Loss: {}\".format(ll))\n",
    "\n",
    "        modelResult = pd.DataFrame([[clfName, accuracy*100]], columns=evaluationArr)\n",
    "        log = log.append(modelResult)\n",
    "        \n",
    "    \n",
    "\n",
    "    sns.set_color_codes(\"muted\")\n",
    "    sns.barplot(x='Accuracy', y='Classifier', data=log, color=\"b\")\n",
    "\n",
    "    plt.xlabel('Accuracy %')\n",
    "    plt.title('Classifier Accuracy')\n",
    "    plt.show()"
   ]
  },
  {
   "cell_type": "code",
   "execution_count": 7,
   "metadata": {},
   "outputs": [
    {
     "name": "stdout",
     "output_type": "stream",
     "text": [
      "MultinomialNB\n",
      "Accuracy: 67.0612%\n",
      "              precision    recall  f1-score   support\n",
      "\n",
      "    positive       0.89      0.12      0.21       690\n",
      "    negative       0.66      1.00      0.79      2773\n",
      "     neutral       0.85      0.10      0.19       930\n",
      "\n",
      "   micro avg       0.67      0.67      0.67      4393\n",
      "   macro avg       0.80      0.41      0.40      4393\n",
      "weighted avg       0.74      0.67      0.57      4393\n",
      "\n",
      "==============================\n",
      "SVC\n",
      "Accuracy: 63.1232%\n",
      "              precision    recall  f1-score   support\n",
      "\n",
      "    positive       0.00      0.00      0.00       690\n",
      "    negative       0.63      1.00      0.77      2773\n",
      "     neutral       0.00      0.00      0.00       930\n",
      "\n",
      "   micro avg       0.63      0.63      0.63      4393\n",
      "   macro avg       0.21      0.33      0.26      4393\n",
      "weighted avg       0.40      0.63      0.49      4393\n",
      "\n",
      "==============================\n"
     ]
    },
    {
     "name": "stderr",
     "output_type": "stream",
     "text": [
      "/anaconda3/lib/python3.7/site-packages/sklearn/metrics/classification.py:1143: UndefinedMetricWarning: Precision and F-score are ill-defined and being set to 0.0 in labels with no predicted samples.\n",
      "  'precision', 'predicted', average, warn_for)\n",
      "/anaconda3/lib/python3.7/site-packages/sklearn/metrics/classification.py:1143: UndefinedMetricWarning: Precision and F-score are ill-defined and being set to 0.0 in labels with no predicted samples.\n",
      "  'precision', 'predicted', average, warn_for)\n",
      "/anaconda3/lib/python3.7/site-packages/sklearn/metrics/classification.py:1143: UndefinedMetricWarning: Precision and F-score are ill-defined and being set to 0.0 in labels with no predicted samples.\n",
      "  'precision', 'predicted', average, warn_for)\n"
     ]
    },
    {
     "name": "stdout",
     "output_type": "stream",
     "text": [
      "DecisionTreeClassifier\n",
      "Accuracy: 67.0157%\n",
      "              precision    recall  f1-score   support\n",
      "\n",
      "    positive       0.55      0.54      0.54       690\n",
      "    negative       0.78      0.78      0.78      2773\n",
      "     neutral       0.43      0.45      0.44       930\n",
      "\n",
      "   micro avg       0.67      0.67      0.67      4393\n",
      "   macro avg       0.59      0.59      0.59      4393\n",
      "weighted avg       0.67      0.67      0.67      4393\n",
      "\n",
      "==============================\n",
      "RandomForestClassifier\n",
      "Accuracy: 72.7521%\n",
      "              precision    recall  f1-score   support\n",
      "\n",
      "    positive       0.73      0.37      0.49       690\n",
      "    negative       0.74      0.94      0.83      2773\n",
      "     neutral       0.62      0.36      0.46       930\n",
      "\n",
      "   micro avg       0.73      0.73      0.73      4393\n",
      "   macro avg       0.70      0.56      0.59      4393\n",
      "weighted avg       0.72      0.73      0.70      4393\n",
      "\n",
      "==============================\n",
      "LogisticRegression\n",
      "Accuracy: 78.5568%\n",
      "              precision    recall  f1-score   support\n",
      "\n",
      "    positive       0.83      0.54      0.65       690\n",
      "    negative       0.79      0.95      0.86      2773\n",
      "     neutral       0.71      0.48      0.57       930\n",
      "\n",
      "   micro avg       0.79      0.79      0.79      4393\n",
      "   macro avg       0.78      0.66      0.70      4393\n",
      "weighted avg       0.78      0.79      0.77      4393\n",
      "\n",
      "==============================\n"
     ]
    },
    {
     "data": {
      "image/png": "[encoded data removed]",
      "text/plain": [
       "<Figure size 432x288 with 1 Axes>"
      ]
     },
     "metadata": {
      "needs_background": "light"
     },
     "output_type": "display_data"
    }
   ],
   "source": [
    "classifiers(features, Y_train, testFeatures,Y_test);"
   ]
  },
  {
   "cell_type": "markdown",
   "metadata": {},
   "source": [
    "## Feature Selection: SelectKBest"
   ]
  },
  {
   "cell_type": "code",
   "execution_count": 8,
   "metadata": {},
   "outputs": [],
   "source": [
    "#---Feature selection - selectKbest----\n",
    "def selectKbest(Kvalue, feature_names,  X_train, Y_train, X_test, Y_test): \n",
    "   \n",
    "    from sklearn.feature_selection import SelectKBest\n",
    "    from sklearn.feature_selection import chi2\n",
    "    print(\"SHAPE: feature:\"+ str(X_train.shape) + \"featureTest:\" + str(X_test.shape))\n",
    "\n",
    "    ch2 = SelectKBest(chi2, k =  Kvalue)\n",
    "    X_train = ch2.fit_transform(X_train, Y_train)\n",
    "    X_test = ch2.transform(X_test);\n",
    "\n",
    "    selected_feature_names = [feature_names[i] for i in ch2.get_support(indices=True)]\n",
    "#     print(selected_feature_names);\n",
    "    print(\"SELECT K BEST, feature:\"+ str(X_train.shape) + \"featureTest:\" + str(X_test.shape))\n",
    "    \n",
    "    return [X_train, X_test]"
   ]
  },
  {
   "cell_type": "code",
   "execution_count": 9,
   "metadata": {},
   "outputs": [
    {
     "name": "stdout",
     "output_type": "stream",
     "text": [
      "SHAPE: feature:(10248, 11094)featureTest:(4393, 11094)\n",
      "SELECT K BEST, feature:(10248, 1000)featureTest:(4393, 1000)\n",
      "MultinomialNB\n",
      "Accuracy: 70.8855%\n",
      "              precision    recall  f1-score   support\n",
      "\n",
      "    positive       0.86      0.27      0.41       690\n",
      "    negative       0.70      0.99      0.82      2773\n",
      "     neutral       0.75      0.19      0.31       930\n",
      "\n",
      "   micro avg       0.71      0.71      0.71      4393\n",
      "   macro avg       0.77      0.48      0.51      4393\n",
      "weighted avg       0.73      0.71      0.65      4393\n",
      "\n",
      "==============================\n",
      "SVC\n",
      "Accuracy: 63.1232%\n",
      "              precision    recall  f1-score   support\n",
      "\n",
      "    positive       0.00      0.00      0.00       690\n",
      "    negative       0.63      1.00      0.77      2773\n",
      "     neutral       0.00      0.00      0.00       930\n",
      "\n",
      "   micro avg       0.63      0.63      0.63      4393\n",
      "   macro avg       0.21      0.33      0.26      4393\n",
      "weighted avg       0.40      0.63      0.49      4393\n",
      "\n",
      "==============================\n"
     ]
    },
    {
     "name": "stderr",
     "output_type": "stream",
     "text": [
      "/anaconda3/lib/python3.7/site-packages/sklearn/metrics/classification.py:1143: UndefinedMetricWarning: Precision and F-score are ill-defined and being set to 0.0 in labels with no predicted samples.\n",
      "  'precision', 'predicted', average, warn_for)\n",
      "/anaconda3/lib/python3.7/site-packages/sklearn/metrics/classification.py:1143: UndefinedMetricWarning: Precision and F-score are ill-defined and being set to 0.0 in labels with no predicted samples.\n",
      "  'precision', 'predicted', average, warn_for)\n",
      "/anaconda3/lib/python3.7/site-packages/sklearn/metrics/classification.py:1143: UndefinedMetricWarning: Precision and F-score are ill-defined and being set to 0.0 in labels with no predicted samples.\n",
      "  'precision', 'predicted', average, warn_for)\n"
     ]
    },
    {
     "name": "stdout",
     "output_type": "stream",
     "text": [
      "DecisionTreeClassifier\n",
      "Accuracy: 65.9686%\n",
      "              precision    recall  f1-score   support\n",
      "\n",
      "    positive       0.53      0.52      0.52       690\n",
      "    negative       0.78      0.77      0.77      2773\n",
      "     neutral       0.42      0.45      0.43       930\n",
      "\n",
      "   micro avg       0.66      0.66      0.66      4393\n",
      "   macro avg       0.58      0.58      0.58      4393\n",
      "weighted avg       0.66      0.66      0.66      4393\n",
      "\n",
      "==============================\n",
      "RandomForestClassifier\n",
      "Accuracy: 72.6838%\n",
      "              precision    recall  f1-score   support\n",
      "\n",
      "    positive       0.70      0.44      0.54       690\n",
      "    negative       0.76      0.92      0.83      2773\n",
      "     neutral       0.58      0.37      0.45       930\n",
      "\n",
      "   micro avg       0.73      0.73      0.73      4393\n",
      "   macro avg       0.68      0.58      0.61      4393\n",
      "weighted avg       0.71      0.73      0.70      4393\n",
      "\n",
      "==============================\n",
      "LogisticRegression\n",
      "Accuracy: 77.4186%\n",
      "              precision    recall  f1-score   support\n",
      "\n",
      "    positive       0.81      0.51      0.63       690\n",
      "    negative       0.78      0.95      0.86      2773\n",
      "     neutral       0.71      0.44      0.54       930\n",
      "\n",
      "   micro avg       0.77      0.77      0.77      4393\n",
      "   macro avg       0.77      0.63      0.68      4393\n",
      "weighted avg       0.77      0.77      0.75      4393\n",
      "\n",
      "==============================\n"
     ]
    },
    {
     "data": {
      "image/png": "[encoded data removed]",
      "text/plain": [
       "<Figure size 432x288 with 1 Axes>"
      ]
     },
     "metadata": {
      "needs_background": "light"
     },
     "output_type": "display_data"
    }
   ],
   "source": [
    "#SelectKBest Testing with Different classifiers\n",
    "array = selectKbest(1000,feature_names, features, Y_train, testFeatures, Y_test)\n",
    "X_train = array[0]\n",
    "X_test = array[1]\n",
    "\n",
    "classifiers(X_train, Y_train, X_test,Y_test);"
   ]
  },
  {
   "cell_type": "markdown",
   "metadata": {},
   "source": [
    "## Feature Selection : SelectFromModel "
   ]
  },
  {
   "cell_type": "code",
   "execution_count": 10,
   "metadata": {},
   "outputs": [],
   "source": [
    "def selectFromModel( classifier, X_train, Y_train, X_test,Y_test ):\n",
    "\n",
    "    from sklearn.pipeline import Pipeline\n",
    "    from sklearn.feature_selection import SelectFromModel\n",
    "\n",
    "    clf = Pipeline([\n",
    "      ('feature_selection', SelectFromModel(MultinomialNB())),\n",
    "      ('classification', classifier)\n",
    "    ])\n",
    "    \n",
    "    model = clf.fit(X_train, Y_train);\n",
    "    print(\"==========/n\")\n",
    "    print(\"Classifier: \", classifier.__class__.__name__)\n",
    "    prediction = model.predict(X_test)\n",
    "#     print(prediction)\n",
    "    accuracy = accuracy_score(Y_test, prediction)\n",
    "    print(\"Accuracy: {:.4%}\".format(accuracy))"
   ]
  },
  {
   "cell_type": "code",
   "execution_count": 13,
   "metadata": {},
   "outputs": [
    {
     "name": "stdout",
     "output_type": "stream",
     "text": [
      "==========/n\n",
      "Classifier:  SVC\n",
      "Accuracy: 63.1232%\n",
      "==========/n\n",
      "Classifier:  LinearSVC\n",
      "Accuracy: 66.3100%\n",
      "==========/n\n",
      "Classifier:  MultinomialNB\n",
      "Accuracy: 63.5329%\n",
      "==========/n\n",
      "Classifier:  DecisionTreeClassifier\n",
      "Accuracy: 65.1036%\n",
      "==========/n\n",
      "Classifier:  RandomForestClassifier\n",
      "Accuracy: 65.3540%\n",
      "==========/n\n",
      "Classifier:  LogisticRegression\n",
      "Accuracy: 63.8516%\n"
     ]
    }
   ],
   "source": [
    "from sklearn.svm import SVC\n",
    "selectFromModel(SVC(kernel=\"rbf\", C=0.025, probability=True), X_train, Y_train, X_test,Y_test)\n",
    "selectFromModel(LinearSVC(), X_train, Y_train, X_test,Y_test)\n",
    "selectFromModel( MultinomialNB(), X_train, Y_train, X_test,Y_test)\n",
    "selectFromModel(DecisionTreeClassifier(), X_train, Y_train, X_test,Y_test)\n",
    "selectFromModel( RandomForestClassifier(), X_train, Y_train, X_test,Y_test)\n",
    "selectFromModel(LogisticRegression(random_state=0), X_train, Y_train, X_test,Y_test)"
   ]
  },
  {
   "cell_type": "code",
   "execution_count": null,
   "metadata": {},
   "outputs": [],
   "source": [
    "# ConMetrics = metrics.confusion_matrix(Y_test,predicted,targetSentiment)\n",
    "# print(ConMetrics)\n",
    "# import matplotlib.pyplot as plt\n",
    "# import seaborn as sns; sns.set()\n",
    "\n",
    "# sns.heatmap(ConMetrics.T, annot=True, fmt='d', xticklabels= targetSentiment, yticklabels= targetSentiment)\n",
    "# plt.xlabel('true label')\n",
    "# plt.ylabel('predicted label')\n"
   ]
  },
  {
   "cell_type": "code",
   "execution_count": null,
   "metadata": {},
   "outputs": [],
   "source": [
    "\n"
   ]
  },
  {
   "cell_type": "code",
   "execution_count": null,
   "metadata": {},
   "outputs": [],
   "source": [
    "# ----Training the model And Testing---\n",
    "pipeline = Pipeline([\n",
    "    ('vectorizer',  TfidfVectorizer(ngram_range=(1,1))),\n",
    "    ('classifier',  MultinomialNB()) ])\n",
    "\n",
    "pipeline.fit(X_train, Y_train)\n",
    "accuracy = metrics.accuracy_score(Y_test,predicted)\n",
    "print(\"accuracy:\", accuracy)\n",
    "print(metrics.classification_report(Y_test, predicted, targetSentiment))"
   ]
  }
 ],
 "metadata": {
  "kernelspec": {
   "display_name": "Python 3",
   "language": "python",
   "name": "python3"
  },
  "language_info": {
   "codemirror_mode": {
    "name": "ipython",
    "version": 3
   },
   "file_extension": ".py",
   "mimetype": "text/x-python",
   "name": "python",
   "nbconvert_exporter": "python",
   "pygments_lexer": "ipython3",
   "version": "3.7.1"
  }
 },
 "nbformat": 4,
 "nbformat_minor": 2
}
