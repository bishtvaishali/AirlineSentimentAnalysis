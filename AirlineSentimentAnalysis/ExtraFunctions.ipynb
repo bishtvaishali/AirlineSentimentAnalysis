{
 "cells": [
  {
   "cell_type": "code",
   "execution_count": null,
   "metadata": {},
   "outputs": [],
   "source": [
    "from nltk.tokenize import sent_tokenize\n",
    "from vaderSentiment.vaderSentiment import SentimentIntensityAnalyzer\n",
    "\n",
    "text=\"\"\"Hello Mr. Smith, how are you doing today? The weather is great, and city is awesome.\n",
    "The sky is pinkish-blue. You shouldn't eat cardboard\"\"\"\n",
    "analyser = SentimentIntensityAnalyzer()\n",
    "\n",
    "sentenceArr =sent_tokenize(text)\n",
    "print(sentence)\n",
    "\n",
    "\n",
    "analyser = SentimentIntensityAnalyzer()\n",
    "\n",
    "\n",
    "def sentimentScores(sentenceArr):\n",
    "    score = analyser.polarity_scores(sentence)\n",
    "    print(score)\n",
    "\n",
    "# sentimentScores(sentence[3])\n",
    "for sentence in sentenceArr:\n",
    "    sentimentScores(sentence)"
   ]
  }
 ],
 "metadata": {
  "kernelspec": {
   "display_name": "Python 3",
   "language": "python",
   "name": "python3"
  },
  "language_info": {
   "codemirror_mode": {
    "name": "ipython",
    "version": 3
   },
   "file_extension": ".py",
   "mimetype": "text/x-python",
   "name": "python",
   "nbconvert_exporter": "python",
   "pygments_lexer": "ipython3",
   "version": "3.7.1"
  }
 },
 "nbformat": 4,
 "nbformat_minor": 2
}
