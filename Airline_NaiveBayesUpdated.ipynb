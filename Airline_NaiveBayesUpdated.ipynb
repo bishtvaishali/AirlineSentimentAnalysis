{
 "cells": [
  {
   "cell_type": "code",
   "execution_count": 1,
   "metadata": {},
   "outputs": [
    {
     "name": "stdout",
     "output_type": "stream",
     "text": [
      "No of Positive=  2363\n",
      "No of Negative=  9178\n",
      "No of Neutral =  3099\n",
      "A balanced * BalancedUncleanFile.csv * file created\n"
     ]
    }
   ],
   "source": [
    "import pandas as pd\n",
    "import numpy as np\n",
    "\n",
    "\n",
    "csvfile = \"Tweets.csv\"\n",
    "balancedfile = \"BalancedUncleanFile.csv\"\n",
    "df = pd.read_csv(csvfile)#Pandas DataFrame is 2-D,tabular data structure with labeled rows and columns\n",
    "\n",
    "#counting total no. of records\n",
    "totalPositiveRecords = len(df[df[\"airline_sentiment\"] == \"positive\"])\n",
    "totalNegativeRecords = len(df[df[\"airline_sentiment\"] == \"negative\"])\n",
    "totalNeutralRecords = len(df[df[\"airline_sentiment\"] == \"neutral\"])\n",
    "print(\"No of Positive= \", totalPositiveRecords) #2363\n",
    "print(\"No of Negative= \",totalNegativeRecords)\n",
    "print(\"No of Neutral = \", totalNeutralRecords)\n",
    "\n",
    "#indices\n",
    "negativeIndices = df[df['airline_sentiment'] == \"negative\"].index\n",
    "positiveIndices = df[df['airline_sentiment'] == \"positive\"].index\n",
    "neutralIndices = df[df['airline_sentiment'] == \"neutral\"].index\n",
    "\n",
    "#randomaly selecting the records wrt sentiments\n",
    "random_Positive_indices = np.random.choice(positiveIndices, totalPositiveRecords, replace=False)\n",
    "random_Negative_indices = np.random.choice(negativeIndices, totalPositiveRecords, replace=False)\n",
    "random_Neutral_indices = np.random.choice(neutralIndices, totalPositiveRecords, replace=False)\n",
    "\n",
    "allIndices = np.concatenate([random_Positive_indices,random_Negative_indices,random_Neutral_indices])\n",
    "df = df.iloc[allIndices] \n",
    "df.to_csv(balancedfile) #converting back to csv\n",
    "print(\"A balanced *\",balancedfile,\"* file created\")\n"
   ]
  },
  {
   "cell_type": "code",
   "execution_count": 2,
   "metadata": {},
   "outputs": [
    {
     "name": "stdout",
     "output_type": "stream",
     "text": [
      "EOD\n"
     ]
    }
   ],
   "source": [
    "import re, csv\n",
    "from sklearn.feature_extraction.text import CountVectorizer\n",
    "from sklearn.feature_extraction.text import TfidfTransformer\n",
    "from sklearn.naive_bayes import MultinomialNB\n",
    "from sklearn import metrics\n",
    "from nltk.corpus import stopwords \n",
    "from nltk.tokenize import word_tokenize\n",
    "from nltk.stem.porter import PorterStemmer\n",
    "\n",
    "\n",
    "stopWordList = set(stopwords.words('english')) \n",
    "stemmer = PorterStemmer()\n",
    "punctuations = \"-?.!'\"\n",
    "\n",
    "tweetsData = []\n",
    "sentiment = []\n",
    "dict1 = {}\n",
    " \n",
    "with open(balancedfile) as csvfile:\n",
    "    data = csv.reader(csvfile, delimiter=',')\n",
    "    i=0\n",
    "    for row in data:\n",
    "        data = row[11]\n",
    "        senti = row[2]\n",
    "        sentiment.append(senti)\n",
    "        tokenArr = re.split('[(\\[\\]\\+*:.!\\,-?;)]', data)\n",
    "#         tokenArr =  data.split()\n",
    "        cleanTextList = []        \n",
    "        for token in tokenArr:\n",
    "            if not token in stopWordList:\n",
    "                token = stemmer.stem(token) #stemming\n",
    "                if token in punctuations:#replacing punctuations\n",
    "                #print(token)\n",
    "                    token = \"<PUNCT>\"\n",
    "                else:\n",
    "                    #token = re.sub('#[^\\s]+',\"<HASHTAG>\",token)#replacing #hastage \n",
    "                    token = re.sub('@[^\\s]+',\"<USERNAME>\",token)#replacing @username from token \n",
    "                    token = re.sub(r\"http\\S+\", \"<URL>\", token)  #replacing url from token     \n",
    "                    token = re.sub(r\"\\//\\S+\", \"<URL>\", token)  #replacing url from token like this: //t.co/mWpG7grEZP\n",
    "                token = token.lower()\n",
    "\n",
    "            cleanTextList.append(token)\n",
    "            \n",
    "        cleanText = ' '.join(cleanTextList)\n",
    "        tweetsData.append(cleanText)\n",
    "#         if(i >= 30):\n",
    "#             break\n",
    "#         i=1+1\n",
    "\n",
    "    \n",
    "\n",
    "# for i in tweetsData: print (i)\n",
    "# print(\"balanced_clean created\")     \n",
    "# print(tweetsData)\n",
    "print(\"EOD\")"
   ]
  },
  {
   "cell_type": "code",
   "execution_count": 3,
   "metadata": {},
   "outputs": [
    {
     "name": "stdout",
     "output_type": "stream",
     "text": [
      "done\n"
     ]
    }
   ],
   "source": [
    "\n",
    "wtr = csv.writer(open ('balanced_clean.csv', 'w'), delimiter=',', lineterminator='\\n')\n",
    "for i in range(1,7068) : \n",
    "    wtr.writerow ([sentiment[i], tweetsData[i]])\n",
    "    \n",
    "print(\"done\")\n"
   ]
  },
  {
   "cell_type": "code",
   "execution_count": 15,
   "metadata": {},
   "outputs": [
    {
     "name": "stdout",
     "output_type": "stream",
     "text": [
      "running\n",
      "SHAPE:(4608, 7155)\n",
      "PREDICT ['positive' 'negative' 'positive' ... 'negative' 'positive' 'positive']\n",
      "accuracy: 0.7203867848509267\n",
      "              precision    recall  f1-score   support\n",
      "\n",
      "    positive       0.80      0.73      0.77       841\n",
      "    negative       0.66      0.84      0.74       845\n",
      "     neutral       0.72      0.58      0.64       795\n",
      "\n",
      "   micro avg       0.72      0.72      0.72      2481\n",
      "   macro avg       0.73      0.72      0.72      2481\n",
      "weighted avg       0.73      0.72      0.72      2481\n",
      "\n"
     ]
    }
   ],
   "source": [
    "#Splitting DataSet for Training and Testing\n",
    "from sklearn.model_selection import train_test_split\n",
    "\n",
    "\n",
    "targetSentiment = [\"positive\", \"negative\",\"neutral\"]\n",
    "\n",
    "X_train, X_test, Y_train, Y_test = train_test_split(tweetsData, sentiment, test_size =0.35)\n",
    "#Convert a collection of text documents to a matrix of token counts\n",
    "#Count Vectorizer ignores uni-character words as it has no information\n",
    "countVector = CountVectorizer() \n",
    "vocab= countVector.fit(X_train)\n",
    "termCountMatrix = countVector.transform(X_train)\n",
    "print(\"running\")\n",
    "print(\"SHAPE:\"+ str(termCountMatrix.shape)) #3 documents and 7 unique terms/vocab\n",
    "\n",
    "#TFIDF\n",
    "tfIdfTransformer = TfidfTransformer()\n",
    "tfIdfTransformer.fit(termCountMatrix)#sorted in the order of Features array\n",
    "#print(\"TFIDF:\" + str(tfIdfTransformer.idf_))\n",
    "\n",
    "tdIdfMatrix = tfIdfTransformer.transform(termCountMatrix)\n",
    "# print(\"TFIDF:\" + str(tdIdfMatrix.toarray()))\n",
    "\n",
    "\n",
    "#------Training NB Model-----\n",
    "model = MultinomialNB().fit(tdIdfMatrix,Y_train)\n",
    "\n",
    "\n",
    "#------Testing NB Model-----\n",
    "newVectorMatrix = countVector.transform(X_test)\n",
    "newTFMatrix =  tfIdfTransformer.transform(newVectorMatrix)\n",
    "predicted = model.predict(newTFMatrix)\n",
    "print(\"PREDICT\",predicted)\n",
    "\n",
    "accuracy = metrics.accuracy_score(Y_test,predicted)\n",
    "print(\"accuracy:\", accuracy)\n",
    "print(metrics.classification_report(Y_test, predicted, targetSentiment))\n"
   ]
  },
  {
   "cell_type": "code",
   "execution_count": 16,
   "metadata": {},
   "outputs": [
    {
     "name": "stdout",
     "output_type": "stream",
     "text": [
      "[[617 131  93]\n",
      " [ 49 706  90]\n",
      " [105 225 465]]\n"
     ]
    },
    {
     "data": {
      "text/plain": [
       "Text(30.453125, 0.5, 'predicted label')"
      ]
     },
     "execution_count": 16,
     "metadata": {},
     "output_type": "execute_result"
    },
    {
     "data": {
      "image/png": "[encoded data removed]",
      "text/plain": [
       "<Figure size 432x288 with 2 Axes>"
      ]
     },
     "metadata": {},
     "output_type": "display_data"
    }
   ],
   "source": [
    "ConMetrics = metrics.confusion_matrix(Y_test,predicted,targetSentiment)\n",
    "print(ConMetrics)\n",
    "import matplotlib.pyplot as plt\n",
    "import seaborn as sns; sns.set()\n",
    "\n",
    "sns.heatmap(ConMetrics.T, annot=True, fmt='d', xticklabels= targetSentiment, yticklabels= targetSentiment)\n",
    "plt.xlabel('true label')\n",
    "plt.ylabel('predicted label')"
   ]
  },
  {
   "cell_type": "code",
   "execution_count": 23,
   "metadata": {},
   "outputs": [
    {
     "name": "stdout",
     "output_type": "stream",
     "text": [
      "PREDICT ['negative' 'negative' 'positive' 'negative' 'positive']\n"
     ]
    }
   ],
   "source": [
    "test =  ['bad', 'sad', 'happy', 'unhappy']\n",
    "newVectorMatrix = countVector.transform(test)\n",
    "newTFMatrix =  tfIdfTransformer.transform(newVectorMatrix)\n",
    "predicted = model.predict(newTFMatrix)\n",
    "print(\"PREDICT\",predicted)"
   ]
  },
  {
   "cell_type": "code",
   "execution_count": null,
   "metadata": {},
   "outputs": [],
   "source": []
  },
  {
   "cell_type": "code",
   "execution_count": null,
   "metadata": {},
   "outputs": [],
   "source": []
  }
 ],
 "metadata": {
  "kernelspec": {
   "display_name": "Python 3",
   "language": "python",
   "name": "python3"
  },
  "language_info": {
   "codemirror_mode": {
    "name": "ipython",
    "version": 3
   },
   "file_extension": ".py",
   "mimetype": "text/x-python",
   "name": "python",
   "nbconvert_exporter": "python",
   "pygments_lexer": "ipython3",
   "version": "3.7.1"
  }
 },
 "nbformat": 4,
 "nbformat_minor": 2
}
