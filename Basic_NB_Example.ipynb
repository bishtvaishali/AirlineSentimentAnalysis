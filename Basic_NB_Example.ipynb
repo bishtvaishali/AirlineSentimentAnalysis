{
 "cells": [
  {
   "cell_type": "code",
   "execution_count": 1,
   "metadata": {},
   "outputs": [
    {
     "name": "stdout",
     "output_type": "stream",
     "text": [
      "\n",
      "Vocabulary: {'the': 11, 'airline': 0, 'food': 4, 'is': 6, 'good': 5, 'nice': 7, 'amazing': 1, 'bad': 2, 'baggage': 3, 'service': 9, 'seat': 8, 'space': 10, 'uncomfortable': 12}\n",
      "\n",
      "Features: ['airline', 'amazing', 'bad', 'baggage', 'food', 'good', 'is', 'nice', 'seat', 'service', 'space', 'the', 'uncomfortable']\n",
      "\n",
      "SHAPE: (7, 13)\n",
      "COUNT MATRIX: \n",
      "[[1 1 0 0 1 1 1 1 0 0 0 1 0]\n",
      " [0 0 0 0 1 1 0 0 0 0 0 0 0]\n",
      " [1 0 1 0 1 0 0 0 0 0 0 1 0]\n",
      " [0 0 0 1 0 1 0 0 0 0 0 1 0]\n",
      " [0 0 0 1 0 1 0 0 0 1 0 0 0]\n",
      " [0 0 1 0 0 0 0 0 1 0 1 0 0]\n",
      " [0 0 0 0 0 0 0 0 1 0 0 0 1]]\n",
      "TFIDF:[1.98082925 2.38629436 1.98082925 1.98082925 1.69314718 1.47000363\n",
      " 2.38629436 2.38629436 1.98082925 2.38629436 2.38629436 1.69314718\n",
      " 2.38629436]\n",
      "TFIDF:[[0.36845836 0.4438798  0.         0.         0.31494599 0.27343857\n",
      "  0.4438798  0.4438798  0.         0.         0.         0.31494599\n",
      "  0.        ]\n",
      " [0.         0.         0.         0.         0.75511282 0.65559486\n",
      "  0.         0.         0.         0.         0.         0.\n",
      "  0.        ]\n",
      " [0.53750603 0.         0.53750603 0.         0.45944234 0.\n",
      "  0.         0.         0.         0.         0.         0.45944234\n",
      "  0.        ]\n",
      " [0.         0.         0.         0.66206854 0.         0.49133117\n",
      "  0.         0.         0.         0.         0.         0.56591424\n",
      "  0.        ]\n",
      " [0.         0.         0.         0.57715559 0.         0.42831597\n",
      "  0.         0.         0.         0.69529624 0.         0.\n",
      "  0.        ]\n",
      " [0.         0.         0.53828134 0.         0.         0.\n",
      "  0.         0.         0.53828134 0.         0.64846464 0.\n",
      "  0.        ]\n",
      " [0.         0.         0.         0.         0.         0.\n",
      "  0.         0.         0.63870855 0.         0.         0.\n",
      "  0.76944876]]\n",
      "PREDICT ['negative']\n"
     ]
    }
   ],
   "source": [
    "text = [\"the airline food is good, nice, amazing\",\n",
    "        \"good food\",\n",
    "       \"the bad food airline\",\n",
    "       \"the baggage good\", \"good baggage service\",\n",
    "       \"seat space bad\",\n",
    "       \"seat uncomfortable\"]\n",
    "sentiment = [\"postive\", \"postive\", \"negative\", \"negative\", \"postive\",\"negative\", \"negative\"]\n",
    "\n",
    "testText = [\"baggage uncomfortable\"]\n",
    "\n",
    "\n",
    "from sklearn.feature_extraction.text import CountVectorizer\n",
    "from sklearn.feature_extraction.text import TfidfTransformer\n",
    "from sklearn.naive_bayes import MultinomialNB\n",
    "from sklearn.pipeline import make_pipeline\n",
    "\n",
    "\n",
    "countVector = CountVectorizer()\n",
    "vocab= countVector.fit(text)\n",
    "#vocab= countVector.fit(tweetsData)\n",
    "print(\"\\nVocabulary: \" + str(countVector.vocabulary_) + '\\n')\n",
    "print(\"Features: \" + str(countVector.get_feature_names()) + '\\n') \n",
    "\n",
    "termCountMatrix = countVector.transform(text)\n",
    "print(\"SHAPE: \"+ str(termCountMatrix.shape)) #3 documents and 7 unique terms/vocab\n",
    "print(\"COUNT MATRIX: \\n\"+ str(termCountMatrix.toarray())) \n",
    "\n",
    "#terms given tfIdf\n",
    "tfIdfTransformer = TfidfTransformer()\n",
    "tfIdfTransformer.fit(termCountMatrix)#sorted in the order of Features array\n",
    "print(\"TFIDF:\" + str(tfIdfTransformer.idf_))\n",
    "\n",
    "tdIdfMatrix = tfIdfTransformer.transform(termCountMatrix)\n",
    "print(\"TFIDF:\" + str(tdIdfMatrix.toarray()))\n",
    "\n",
    "model = MultinomialNB().fit(tdIdfMatrix, sentiment)\n",
    "\n",
    "newVectorMatrix = countVector.transform(testText)\n",
    "newTFMatrix =  tfIdfTransformer.transform(newVectorMatrix)\n",
    "predict = model.predict(newTFMatrix)\n",
    "\n",
    "print(\"PREDICT\", predict)\n"
   ]
  },
  {
   "cell_type": "code",
   "execution_count": null,
   "metadata": {},
   "outputs": [],
   "source": []
  }
 ],
 "metadata": {
  "kernelspec": {
   "display_name": "Python 3",
   "language": "python",
   "name": "python3"
  },
  "language_info": {
   "codemirror_mode": {
    "name": "ipython",
    "version": 3
   },
   "file_extension": ".py",
   "mimetype": "text/x-python",
   "name": "python",
   "nbconvert_exporter": "python",
   "pygments_lexer": "ipython3",
   "version": "3.7.1"
  }
 },
 "nbformat": 4,
 "nbformat_minor": 2
}
